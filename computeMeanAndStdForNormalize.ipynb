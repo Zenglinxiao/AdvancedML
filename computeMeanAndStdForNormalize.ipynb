{
 "cells": [
  {
   "cell_type": "code",
   "execution_count": 1,
   "metadata": {},
   "outputs": [],
   "source": [
    "from __future__ import print_function, division\n",
    "import os\n",
    "import torch\n",
    "import pandas as pd\n",
    "from PIL import Image\n",
    "import numpy as np\n",
    "import matplotlib.pyplot as plt\n",
    "from torch.utils.data import Dataset, DataLoader\n",
    "from torchvision import transforms, utils"
   ]
  },
  {
   "cell_type": "code",
   "execution_count": 6,
   "metadata": {},
   "outputs": [],
   "source": [
    "class Caltech256Dataset(Dataset):\n",
    "    \"\"\"Caltech 256 dataset.\"\"\"\n",
    "\n",
    "    def __init__(self, csv_file, root_dir, transform=None):\n",
    "        \"\"\"\n",
    "        Args:\n",
    "            csv_file (string): Path to the csv file (filepath, label).\n",
    "            root_dir (string): Directory with all the images.\n",
    "            transform (callable, optional): Optional transform to be applied\n",
    "                on a sample.\n",
    "        \"\"\"\n",
    "        self.imagelist = pd.read_csv(csv_file,usecols=['image','label'])\n",
    "        self.root_dir = root_dir\n",
    "        self.transform = transform\n",
    "\n",
    "    def __len__(self):\n",
    "        return len(self.imagelist)\n",
    "\n",
    "    def __getitem__(self, idx):\n",
    "        img_name = os.path.join(self.root_dir,\n",
    "                                self.imagelist.iloc[idx, 0]).replace('\\\\', '/')\n",
    "        image = Image.open(img_name).convert('RGB')\n",
    "        if self.transform:\n",
    "            image = self.transform(image)\n",
    "        label = self.imagelist.iloc[idx, 1]\n",
    "        sample = {'image': image, 'label': label}\n",
    "        return image, label"
   ]
  },
  {
   "cell_type": "code",
   "execution_count": 7,
   "metadata": {},
   "outputs": [],
   "source": [
    "caltech256_traindataset = Caltech256Dataset(csv_file='./data/Caltech256/trainDataSet.csv',\n",
    "                                            root_dir='./data/Caltech256/256_ObjectCategories',\n",
    "                                            transform=transforms.Compose([\n",
    "                                               transforms.Resize(256),\n",
    "                                               #transforms.transforms.RandomCrop(224),\n",
    "                                               #transforms.RandomHorizontalFlip(),\n",
    "                                               transforms.ToTensor()\n",
    "                                            ]))"
   ]
  },
  {
   "cell_type": "code",
   "execution_count": null,
   "metadata": {},
   "outputs": [],
   "source": []
  },
  {
   "cell_type": "code",
   "execution_count": 19,
   "metadata": {},
   "outputs": [],
   "source": [
    "def computeMeanForNormalize(dataset):\n",
    "    means = []\n",
    "    stds = []\n",
    "    for data in dataset:\n",
    "        image, label = data # image [C * H * W]\n",
    "        mean = torch.mean(torch.mean(image,1),1).numpy()\n",
    "        std = torch.std(torch.std(image,1),1).numpy()\n",
    "        means.append(mean)\n",
    "        stds.append(std)\n",
    "    means = np.array(means).mean(0)\n",
    "    stds = np.array(stds).mean(0)\n",
    "    return means"
   ]
  },
  {
   "cell_type": "code",
   "execution_count": 20,
   "metadata": {},
   "outputs": [],
   "source": [
    "means = computeMeanForNormalize(caltech256_traindataset)"
   ]
  },
  {
   "cell_type": "code",
   "execution_count": 28,
   "metadata": {},
   "outputs": [
    {
     "data": {
      "text/plain": [
       "(7710, 3)"
      ]
     },
     "execution_count": 28,
     "metadata": {},
     "output_type": "execute_result"
    }
   ],
   "source": [
    "means.shape"
   ]
  },
  {
   "cell_type": "code",
   "execution_count": 30,
   "metadata": {},
   "outputs": [],
   "source": [
    "def computeStdForNormalize(dataset):\n",
    "    stds = []\n",
    "    for data in dataset:\n",
    "        image, label = data # image [C * H * W]\n",
    "        std = torch.std(torch.std(image,1),1).numpy()\n",
    "        stds.append(std)\n",
    "    stds = np.array(stds)\n",
    "    return stds"
   ]
  },
  {
   "cell_type": "code",
   "execution_count": 31,
   "metadata": {},
   "outputs": [],
   "source": [
    "stds = computeStdForNormalize(caltech256_traindataset)"
   ]
  },
  {
   "cell_type": "code",
   "execution_count": 35,
   "metadata": {},
   "outputs": [
    {
     "data": {
      "text/plain": [
       "array([[0.05711783, 0.06176331, 0.062509  ],\n",
       "       [0.10159919, 0.09237197, 0.09783146],\n",
       "       [0.06962386, 0.06711496, 0.07457351],\n",
       "       ...,\n",
       "       [0.04589625, 0.06045521, 0.07087544],\n",
       "       [0.02692627, 0.02728227, 0.02943572],\n",
       "       [0.02737434, 0.01983638, 0.02033699]], dtype=float32)"
      ]
     },
     "execution_count": 35,
     "metadata": {},
     "output_type": "execute_result"
    }
   ],
   "source": [
    "stds."
   ]
  },
  {
   "cell_type": "code",
   "execution_count": 36,
   "metadata": {},
   "outputs": [
    {
     "data": {
      "text/plain": [
       "tensor([[-0.6236, -0.2060,  1.0271, -0.4889, -1.9552,  1.3001,  2.0672,  1.9485,\n",
       "         -1.1469, -0.5483, -1.8065,  0.1485],\n",
       "        [ 0.5212,  0.5958, -0.9025, -0.2785, -0.0776, -0.2465, -0.5193,  0.2788,\n",
       "         -0.8247,  1.0558,  0.1113,  0.5018]])"
      ]
     },
     "execution_count": 36,
     "metadata": {},
     "output_type": "execute_result"
    }
   ],
   "source": [
    "a=torch.randn(2, 3, 4)\n",
    "a.view(2,-1)"
   ]
  },
  {
   "cell_type": "code",
   "execution_count": 50,
   "metadata": {},
   "outputs": [
    {
     "data": {
      "text/plain": [
       "array([0.6661922, 0.7079454, 0.7085566], dtype=float32)"
      ]
     },
     "execution_count": 50,
     "metadata": {},
     "output_type": "execute_result"
    }
   ],
   "source": [
    "b = caltech256_traindataset[0][0]\n",
    "c = b.view(3,-1).mean(1).numpy()\n",
    "c"
   ]
  },
  {
   "cell_type": "code",
   "execution_count": 51,
   "metadata": {},
   "outputs": [
    {
     "data": {
      "text/plain": [
       "array([1.66619217, 1.70794541, 1.70855659])"
      ]
     },
     "execution_count": 51,
     "metadata": {},
     "output_type": "execute_result"
    }
   ],
   "source": [
    "d = np.ones(3)\n",
    "d+c"
   ]
  },
  {
   "cell_type": "code",
   "execution_count": 52,
   "metadata": {},
   "outputs": [
    {
     "data": {
      "text/plain": [
       "7710"
      ]
     },
     "execution_count": 52,
     "metadata": {},
     "output_type": "execute_result"
    }
   ],
   "source": [
    "len(caltech256_traindataset)"
   ]
  },
  {
   "cell_type": "code",
   "execution_count": 53,
   "metadata": {},
   "outputs": [],
   "source": [
    "def computeBeforeNormalize(dataset):\n",
    "    means = np.zeros(3)\n",
    "    stds = np.zeros(3)\n",
    "    nb = len(dataset)\n",
    "    for data in dataset:\n",
    "        image, label = data # image [C * H * W]\n",
    "        image_C = image.view(3,-1)\n",
    "        means += image_C.mean(1).numpy()\n",
    "        stds += image_C.std(1).numpy()\n",
    "    means = means/nb\n",
    "    stds = stds/nb\n",
    "    return means, stds"
   ]
  },
  {
   "cell_type": "code",
   "execution_count": 54,
   "metadata": {},
   "outputs": [],
   "source": [
    "means, stds = computeBeforeNormalize(caltech256_traindataset)"
   ]
  },
  {
   "cell_type": "code",
   "execution_count": 55,
   "metadata": {},
   "outputs": [
    {
     "data": {
      "text/plain": [
       "array([0.55517198, 0.53375827, 0.50551041])"
      ]
     },
     "execution_count": 55,
     "metadata": {},
     "output_type": "execute_result"
    }
   ],
   "source": [
    "means"
   ]
  },
  {
   "cell_type": "code",
   "execution_count": 56,
   "metadata": {},
   "outputs": [
    {
     "data": {
      "text/plain": [
       "array([0.23612623, 0.23623358, 0.23891582])"
      ]
     },
     "execution_count": 56,
     "metadata": {},
     "output_type": "execute_result"
    }
   ],
   "source": [
    "stds"
   ]
  },
  {
   "cell_type": "code",
   "execution_count": 57,
   "metadata": {},
   "outputs": [],
   "source": [
    "caltech256_testdataset = Caltech256Dataset(csv_file='./data/Caltech256/testDataSet.csv',\n",
    "                                            root_dir='./data/Caltech256/256_ObjectCategories',\n",
    "                                            transform=transforms.Compose([\n",
    "                                               transforms.Resize(256),\n",
    "                                               #transforms.transforms.RandomCrop(224),\n",
    "                                               #transforms.RandomHorizontalFlip(),\n",
    "                                               transforms.ToTensor()\n",
    "                                            ]))"
   ]
  },
  {
   "cell_type": "code",
   "execution_count": 59,
   "metadata": {},
   "outputs": [
    {
     "data": {
      "image/png": "[encoded data removed]",
      "text/plain": [
       "<Figure size 432x288 with 3 Axes>"
      ]
     },
     "metadata": {
      "needs_background": "light"
     },
     "output_type": "display_data"
    }
   ],
   "source": [
    "plt.figure()\n",
    "for i in range(3):\n",
    "    sample = caltech256_testdataset[i]\n",
    "    #print(i,sample['image'].shape,sample['label'])\n",
    "    ax = plt.subplot(1,3,i+1)\n",
    "    plt.title(sample[1])\n",
    "    ax.axis('off')\n",
    "#     imagebatch = sample[0].unsqueeze(0)\n",
    "#     grid = utils.make_grid(imagebatch)\n",
    "    imagebatch = sample[0]\n",
    "    grid = utils.make_grid(imagebatch)\n",
    "    plt.imshow(grid.numpy().transpose((1, 2, 0)))"
   ]
  },
  {
   "cell_type": "code",
   "execution_count": 60,
   "metadata": {},
   "outputs": [],
   "source": [
    "tmeans, tstds = computeBeforeNormalize(caltech256_testdataset)"
   ]
  },
  {
   "cell_type": "code",
   "execution_count": 61,
   "metadata": {},
   "outputs": [
    {
     "data": {
      "text/plain": [
       "(array([0.5517131 , 0.53087857, 0.50269934]),\n",
       " array([0.23537882, 0.23507463, 0.23890983]))"
      ]
     },
     "execution_count": 61,
     "metadata": {},
     "output_type": "execute_result"
    }
   ],
   "source": [
    "tmeans,tstds"
   ]
  },
  {
   "cell_type": "code",
   "execution_count": 63,
   "metadata": {},
   "outputs": [
    {
     "data": {
      "text/plain": [
       "tensor([[[0.3686, 0.3529, 0.3686,  ..., 0.5412, 0.5373, 0.5294],\n",
       "         [0.3569, 0.3529, 0.3686,  ..., 0.5451, 0.5412, 0.5294],\n",
       "         [0.3490, 0.3569, 0.3765,  ..., 0.5451, 0.5412, 0.5333],\n",
       "         ...,\n",
       "         [0.4627, 0.4667, 0.5059,  ..., 0.5176, 0.4980, 0.4824],\n",
       "         [0.4431, 0.4510, 0.4980,  ..., 0.4980, 0.4902, 0.4745],\n",
       "         [0.4275, 0.4392, 0.4980,  ..., 0.4784, 0.4745, 0.4667]],\n",
       "\n",
       "        [[0.4196, 0.4039, 0.4196,  ..., 0.5961, 0.5882, 0.5804],\n",
       "         [0.4078, 0.4039, 0.4196,  ..., 0.5961, 0.5922, 0.5804],\n",
       "         [0.4000, 0.4078, 0.4275,  ..., 0.6039, 0.5961, 0.5882],\n",
       "         ...,\n",
       "         [0.5098, 0.5137, 0.5529,  ..., 0.5333, 0.5176, 0.5020],\n",
       "         [0.4902, 0.4980, 0.5451,  ..., 0.5176, 0.5098, 0.4941],\n",
       "         [0.4745, 0.4863, 0.5451,  ..., 0.4980, 0.4941, 0.4863]],\n",
       "\n",
       "        [[0.4510, 0.4353, 0.4510,  ..., 0.6275, 0.6235, 0.6157],\n",
       "         [0.4392, 0.4353, 0.4510,  ..., 0.6314, 0.6275, 0.6157],\n",
       "         [0.4314, 0.4392, 0.4588,  ..., 0.6353, 0.6314, 0.6235],\n",
       "         ...,\n",
       "         [0.5098, 0.5137, 0.5529,  ..., 0.5451, 0.5294, 0.5137],\n",
       "         [0.4902, 0.4980, 0.5451,  ..., 0.5294, 0.5216, 0.5059],\n",
       "         [0.4745, 0.4863, 0.5451,  ..., 0.5098, 0.5059, 0.4980]]])"
      ]
     },
     "execution_count": 63,
     "metadata": {},
     "output_type": "execute_result"
    }
   ],
   "source": [
    "caltech256_traindataset[0][0]"
   ]
  },
  {
   "cell_type": "code",
   "execution_count": 66,
   "metadata": {},
   "outputs": [
    {
     "data": {
      "text/plain": [
       "tensor(0.6942)"
      ]
     },
     "execution_count": 66,
     "metadata": {},
     "output_type": "execute_result"
    }
   ],
   "source": [
    "torch.mean(caltech256_traindataset[0][0])"
   ]
  }
 ],
 "metadata": {
  "kernelspec": {
   "display_name": "Python 3",
   "language": "python",
   "name": "python3"
  },
  "language_info": {
   "codemirror_mode": {
    "name": "ipython",
    "version": 3
   },
   "file_extension": ".py",
   "mimetype": "text/x-python",
   "name": "python",
   "nbconvert_exporter": "python",
   "pygments_lexer": "ipython3",
   "version": "3.6.7"
  }
 },
 "nbformat": 4,
 "nbformat_minor": 2
}
